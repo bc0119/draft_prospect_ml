{
 "cells": [
  {
   "cell_type": "markdown",
   "metadata": {},
   "source": [
    "# Data Cleaning"
   ]
  },
  {
   "cell_type": "code",
   "execution_count": 22,
   "metadata": {},
   "outputs": [],
   "source": [
    "#importing necessary packages\n",
    "\n",
    "import pandas as pd\n",
    "import numpy as np"
   ]
  },
  {
   "cell_type": "code",
   "execution_count": 23,
   "metadata": {},
   "outputs": [],
   "source": [
    "data = pd.read_csv('data/basketball_data.csv')"
   ]
  },
  {
   "cell_type": "code",
   "execution_count": 24,
   "metadata": {},
   "outputs": [
    {
     "data": {
      "text/html": [
       "<div>\n",
       "<style scoped>\n",
       "    .dataframe tbody tr th:only-of-type {\n",
       "        vertical-align: middle;\n",
       "    }\n",
       "\n",
       "    .dataframe tbody tr th {\n",
       "        vertical-align: top;\n",
       "    }\n",
       "\n",
       "    .dataframe thead th {\n",
       "        text-align: right;\n",
       "    }\n",
       "</style>\n",
       "<table border=\"1\" class=\"dataframe\">\n",
       "  <thead>\n",
       "    <tr style=\"text-align: right;\">\n",
       "      <th></th>\n",
       "      <th>Unnamed: 0</th>\n",
       "      <th>player_name</th>\n",
       "      <th>TEAM</th>\n",
       "      <th>AFFILIATION</th>\n",
       "      <th>YEAR</th>\n",
       "      <th>ROUND</th>\n",
       "      <th>ROUND.1</th>\n",
       "      <th>OVERALL</th>\n",
       "      <th>team</th>\n",
       "      <th>conf</th>\n",
       "      <th>...</th>\n",
       "      <th>dgbpm</th>\n",
       "      <th>oreb</th>\n",
       "      <th>dreb</th>\n",
       "      <th>treb</th>\n",
       "      <th>ast</th>\n",
       "      <th>stl</th>\n",
       "      <th>blk</th>\n",
       "      <th>pts</th>\n",
       "      <th>Unnamed: 64</th>\n",
       "      <th>Unnamed: 65</th>\n",
       "    </tr>\n",
       "  </thead>\n",
       "  <tbody>\n",
       "    <tr>\n",
       "      <th>0</th>\n",
       "      <td>0</td>\n",
       "      <td>Cade Cunningham</td>\n",
       "      <td>Detroit Pistons</td>\n",
       "      <td>Oklahoma State</td>\n",
       "      <td>2021.0</td>\n",
       "      <td>1</td>\n",
       "      <td>1</td>\n",
       "      <td>1</td>\n",
       "      <td>Oklahoma St.</td>\n",
       "      <td>B12</td>\n",
       "      <td>...</td>\n",
       "      <td>2.53637</td>\n",
       "      <td>0.7037</td>\n",
       "      <td>5.4815</td>\n",
       "      <td>6.1852</td>\n",
       "      <td>3.4444</td>\n",
       "      <td>1.5926</td>\n",
       "      <td>0.7778</td>\n",
       "      <td>20.2222</td>\n",
       "      <td>Wing F</td>\n",
       "      <td>8.87260</td>\n",
       "    </tr>\n",
       "    <tr>\n",
       "      <th>1</th>\n",
       "      <td>1</td>\n",
       "      <td>Evan Mobley</td>\n",
       "      <td>Cleveland Cavaliers</td>\n",
       "      <td>Southern California</td>\n",
       "      <td>2021.0</td>\n",
       "      <td>1</td>\n",
       "      <td>3</td>\n",
       "      <td>3</td>\n",
       "      <td>USC</td>\n",
       "      <td>P12</td>\n",
       "      <td>...</td>\n",
       "      <td>5.25248</td>\n",
       "      <td>2.7273</td>\n",
       "      <td>5.9394</td>\n",
       "      <td>8.6667</td>\n",
       "      <td>2.3939</td>\n",
       "      <td>0.7879</td>\n",
       "      <td>2.8485</td>\n",
       "      <td>16.3636</td>\n",
       "      <td>C</td>\n",
       "      <td>2.10197</td>\n",
       "    </tr>\n",
       "    <tr>\n",
       "      <th>2</th>\n",
       "      <td>2</td>\n",
       "      <td>Scottie Barnes</td>\n",
       "      <td>Toronto Raptors</td>\n",
       "      <td>Florida State</td>\n",
       "      <td>2021.0</td>\n",
       "      <td>1</td>\n",
       "      <td>4</td>\n",
       "      <td>4</td>\n",
       "      <td>Florida St.</td>\n",
       "      <td>ACC</td>\n",
       "      <td>...</td>\n",
       "      <td>2.99510</td>\n",
       "      <td>1.4583</td>\n",
       "      <td>2.5417</td>\n",
       "      <td>4.0000</td>\n",
       "      <td>4.0833</td>\n",
       "      <td>1.4583</td>\n",
       "      <td>0.4583</td>\n",
       "      <td>10.3333</td>\n",
       "      <td>Scoring PG</td>\n",
       "      <td>3.85045</td>\n",
       "    </tr>\n",
       "    <tr>\n",
       "      <th>3</th>\n",
       "      <td>3</td>\n",
       "      <td>Jalen Suggs</td>\n",
       "      <td>Orlando Magic</td>\n",
       "      <td>Gonzaga</td>\n",
       "      <td>2021.0</td>\n",
       "      <td>1</td>\n",
       "      <td>5</td>\n",
       "      <td>5</td>\n",
       "      <td>Gonzaga</td>\n",
       "      <td>WCC</td>\n",
       "      <td>...</td>\n",
       "      <td>4.11123</td>\n",
       "      <td>0.6000</td>\n",
       "      <td>4.7333</td>\n",
       "      <td>5.3333</td>\n",
       "      <td>4.5333</td>\n",
       "      <td>1.9000</td>\n",
       "      <td>0.3333</td>\n",
       "      <td>14.3000</td>\n",
       "      <td>Combo G</td>\n",
       "      <td>6.42283</td>\n",
       "    </tr>\n",
       "    <tr>\n",
       "      <th>4</th>\n",
       "      <td>4</td>\n",
       "      <td>Franz Wagner</td>\n",
       "      <td>Orlando Magic</td>\n",
       "      <td>Michigan</td>\n",
       "      <td>2021.0</td>\n",
       "      <td>1</td>\n",
       "      <td>8</td>\n",
       "      <td>8</td>\n",
       "      <td>Michigan</td>\n",
       "      <td>B10</td>\n",
       "      <td>...</td>\n",
       "      <td>3.05480</td>\n",
       "      <td>0.8889</td>\n",
       "      <td>4.7037</td>\n",
       "      <td>5.5926</td>\n",
       "      <td>1.0000</td>\n",
       "      <td>1.2593</td>\n",
       "      <td>0.5926</td>\n",
       "      <td>11.5556</td>\n",
       "      <td>Wing F</td>\n",
       "      <td>9.22711</td>\n",
       "    </tr>\n",
       "  </tbody>\n",
       "</table>\n",
       "<p>5 rows × 73 columns</p>\n",
       "</div>"
      ],
      "text/plain": [
       "   Unnamed: 0      player_name                 TEAM          AFFILIATION  \\\n",
       "0           0  Cade Cunningham      Detroit Pistons       Oklahoma State   \n",
       "1           1      Evan Mobley  Cleveland Cavaliers  Southern California   \n",
       "2           2   Scottie Barnes      Toronto Raptors        Florida State   \n",
       "3           3      Jalen Suggs        Orlando Magic              Gonzaga   \n",
       "4           4     Franz Wagner        Orlando Magic             Michigan   \n",
       "\n",
       "     YEAR  ROUND  ROUND.1  OVERALL          team conf  ...    dgbpm    oreb  \\\n",
       "0  2021.0      1        1        1  Oklahoma St.  B12  ...  2.53637  0.7037   \n",
       "1  2021.0      1        3        3           USC  P12  ...  5.25248  2.7273   \n",
       "2  2021.0      1        4        4   Florida St.  ACC  ...  2.99510  1.4583   \n",
       "3  2021.0      1        5        5       Gonzaga  WCC  ...  4.11123  0.6000   \n",
       "4  2021.0      1        8        8      Michigan  B10  ...  3.05480  0.8889   \n",
       "\n",
       "     dreb    treb     ast     stl     blk      pts  Unnamed: 64  Unnamed: 65  \n",
       "0  5.4815  6.1852  3.4444  1.5926  0.7778  20.2222       Wing F      8.87260  \n",
       "1  5.9394  8.6667  2.3939  0.7879  2.8485  16.3636            C      2.10197  \n",
       "2  2.5417  4.0000  4.0833  1.4583  0.4583  10.3333   Scoring PG      3.85045  \n",
       "3  4.7333  5.3333  4.5333  1.9000  0.3333  14.3000      Combo G      6.42283  \n",
       "4  4.7037  5.5926  1.0000  1.2593  0.5926  11.5556       Wing F      9.22711  \n",
       "\n",
       "[5 rows x 73 columns]"
      ]
     },
     "execution_count": 24,
     "metadata": {},
     "output_type": "execute_result"
    }
   ],
   "source": [
    "data.head()"
   ]
  },
  {
   "cell_type": "code",
   "execution_count": 25,
   "metadata": {},
   "outputs": [],
   "source": [
    "#dropping unnecessary columns\n",
    "\n",
    "data.drop(columns=['ht', 'type', 'TEAM', 'team', 'YEAR', 'player_name', 'Unnamed: 0', 'Unnamed: 65', 'num', 'rimmade', 'rimmade+rimmiss', 'midmade', \n",
    "'midmade+midmiss', 'dunksmade', 'dunksmiss+dunksmade', 'pick', 'pfr', 'pid', 'gbpm', 'ogbpm', 'dgbpm', 'year'], inplace=True)"
   ]
  },
  {
   "cell_type": "code",
   "execution_count": 26,
   "metadata": {},
   "outputs": [],
   "source": [
    "#renaming column\n",
    "data.rename(columns={'Unnamed: 64': 'Position'}, inplace=True)"
   ]
  },
  {
   "cell_type": "code",
   "execution_count": 27,
   "metadata": {},
   "outputs": [],
   "source": [
    "#created our target class (whether an observation has ROUND 1 value or ROUND 2 value)\n",
    "data['Class'] = data.ROUND.apply(lambda x: 1 if x == 1 else 0)"
   ]
  },
  {
   "cell_type": "code",
   "execution_count": 28,
   "metadata": {},
   "outputs": [],
   "source": [
    "#dropped more unneccessary columns\n",
    "data.drop(columns=['ROUND', 'ROUND.1', 'OVERALL'], inplace=True)"
   ]
  },
  {
   "cell_type": "code",
   "execution_count": 30,
   "metadata": {},
   "outputs": [
    {
     "name": "stdout",
     "output_type": "stream",
     "text": [
      "<class 'pandas.core.frame.DataFrame'>\n",
      "RangeIndex: 1487 entries, 0 to 1486\n",
      "Data columns (total 49 columns):\n",
      " #   Column                           Non-Null Count  Dtype  \n",
      "---  ------                           --------------  -----  \n",
      " 0   AFFILIATION                      1487 non-null   object \n",
      " 1   conf                             1487 non-null   object \n",
      " 2   GP                               1487 non-null   int64  \n",
      " 3   Min_per                          1487 non-null   float64\n",
      " 4   Ortg                             1487 non-null   float64\n",
      " 5   usg                              1487 non-null   float64\n",
      " 6   eFG                              1487 non-null   float64\n",
      " 7   TS_per                           1487 non-null   float64\n",
      " 8   ORB_per                          1487 non-null   float64\n",
      " 9   DRB_per                          1487 non-null   float64\n",
      " 10  AST_per                          1487 non-null   float64\n",
      " 11  TO_per                           1487 non-null   float64\n",
      " 12  FTM                              1487 non-null   int64  \n",
      " 13  FTA                              1487 non-null   int64  \n",
      " 14  FT_per                           1487 non-null   float64\n",
      " 15  twoPM                            1487 non-null   int64  \n",
      " 16  twoPA                            1487 non-null   int64  \n",
      " 17  twoP_per                         1487 non-null   float64\n",
      " 18  TPM                              1487 non-null   int64  \n",
      " 19  TPA                              1487 non-null   int64  \n",
      " 20  TP_per                           1487 non-null   float64\n",
      " 21  blk_per                          1487 non-null   float64\n",
      " 22  stl_per                          1487 non-null   float64\n",
      " 23  ftr                              1487 non-null   float64\n",
      " 24  yr                               1487 non-null   object \n",
      " 25  porpag                           1487 non-null   float64\n",
      " 26  adjoe                            1487 non-null   float64\n",
      " 27  Rec Rank                         1248 non-null   float64\n",
      " 28  ast/tov                          1480 non-null   float64\n",
      " 29  rimmade/(rimmade+rimmiss)        1338 non-null   float64\n",
      " 30  midmade/(midmade+midmiss)        1337 non-null   float64\n",
      " 31  dunksmade/(dunksmade+dunksmiss)  1216 non-null   float64\n",
      " 32  drtg                             1487 non-null   float64\n",
      " 33  adrtg                            1487 non-null   float64\n",
      " 34  dporpag                          1487 non-null   float64\n",
      " 35  stops                            1487 non-null   float64\n",
      " 36  bpm                              1487 non-null   float64\n",
      " 37  obpm                             1487 non-null   float64\n",
      " 38  dbpm                             1487 non-null   float64\n",
      " 39  mp                               1487 non-null   float64\n",
      " 40  oreb                             1487 non-null   float64\n",
      " 41  dreb                             1487 non-null   float64\n",
      " 42  treb                             1487 non-null   float64\n",
      " 43  ast                              1487 non-null   float64\n",
      " 44  stl                              1487 non-null   float64\n",
      " 45  blk                              1487 non-null   float64\n",
      " 46  pts                              1487 non-null   float64\n",
      " 47  Position                         1342 non-null   object \n",
      " 48  Class                            1487 non-null   int64  \n",
      "dtypes: float64(37), int64(8), object(4)\n",
      "memory usage: 569.4+ KB\n"
     ]
    }
   ],
   "source": [
    "data.info()"
   ]
  },
  {
   "cell_type": "code",
   "execution_count": 39,
   "metadata": {},
   "outputs": [
    {
     "data": {
      "image/png": "[encoded data removed]",
      "text/plain": [
       "<Figure size 640x480 with 1 Axes>"
      ]
     },
     "metadata": {},
     "output_type": "display_data"
    }
   ],
   "source": [
    "import matplotlib.pyplot as plt\n",
    "\n",
    "data[data.Class==1].dropna().groupby(['Position'])['Class'].count().sort_values(ascending=False).plot(kind='barh')\n",
    "\n",
    "plt.title('Position Frequency in Round 1')\n",
    "\n",
    "plt.show()"
   ]
  },
  {
   "cell_type": "code",
   "execution_count": 41,
   "metadata": {},
   "outputs": [
    {
     "data": {
      "image/png": "[encoded data removed]",
      "text/plain": [
       "<Figure size 640x480 with 1 Axes>"
      ]
     },
     "metadata": {},
     "output_type": "display_data"
    }
   ],
   "source": [
    "data[data.Class==0].dropna().groupby(['Position'])['Class'].count().sort_values(ascending=False).plot(kind='barh')\n",
    "\n",
    "plt.title('Position Frequency in Round 2')\n",
    "\n",
    "plt.show()"
   ]
  },
  {
   "cell_type": "code",
   "execution_count": null,
   "metadata": {},
   "outputs": [],
   "source": []
  }
 ],
 "metadata": {
  "kernelspec": {
   "display_name": "Python (learn-env)",
   "language": "python",
   "name": "learn-env"
  },
  "language_info": {
   "codemirror_mode": {
    "name": "ipython",
    "version": 3
   },
   "file_extension": ".py",
   "mimetype": "text/x-python",
   "name": "python",
   "nbconvert_exporter": "python",
   "pygments_lexer": "ipython3",
   "version": "3.8.5"
  },
  "orig_nbformat": 4
 },
 "nbformat": 4,
 "nbformat_minor": 2
}
